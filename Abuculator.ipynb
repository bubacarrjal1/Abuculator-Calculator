{
 "cells": [
  {
   "cell_type": "code",
   "execution_count": 1,
   "metadata": {
    "collapsed": true
   },
   "outputs": [],
   "source": [
    "from tkinter import*"
   ]
  },
  {
   "cell_type": "code",
   "execution_count": 9,
   "metadata": {},
   "outputs": [],
   "source": [
    "def btnClick(numbers):\n",
    "    global operator\n",
    "    operator=operator + str(numbers)\n",
    "    text_Input.set(operator)\n",
    "    \n",
    "#clearFunction\n",
    "def btnClearDisplay():\n",
    "    global operator\n",
    "    operator=\"\"\n",
    "    text_Input.set(\"\")\n",
    "    \n",
    "# EqualInput\n",
    "def btnEqualsInput():\n",
    "    global operator\n",
    "    sumup=str(eval(operator))\n",
    "    text_Input.set(sumup)\n",
    "    operator=\"\"\n",
    "    \n",
    "\n",
    "\n",
    "\n",
    "cal = Tk()\n",
    "cal.title(\"AbuCalculator\")\n",
    "operator=\"\"\n",
    "text_Input = StringVar()\n",
    "\n",
    "txtDisplay = Entry(cal,font=('arial', 20, 'bold'), textvariable=text_Input, bd=30, insertwidth=4,\n",
    "                  bg=\"gold\", justify='right').grid(columnspan=4)\n",
    "\n",
    "# First Row\n",
    "btn7 = Button(cal,padx=16,pady=16, bd=8, fg=\"black\", font = ('arial', 20, 'bold'),\n",
    "             text=\"7\",bg=\"yellow\",command=lambda:btnClick(7)).grid(row=1, column=0)\n",
    "btn8 = Button(cal,padx=16,pady=16, bd=8, fg=\"black\", font = ('arial', 20, 'bold'),\n",
    "             text=\"8\", bg=\"yellow\", command=lambda:btnClick(8)).grid(row=1, column=1)\n",
    "btn9 = Button(cal,padx=16,pady=16, bd=8, fg=\"black\", font = ('arial', 20, 'bold'),\n",
    "             text=\"9\", bg=\"yellow\", command=lambda:btnClick(9)).grid(row=1, column=2)\n",
    "Addition = Button(cal,padx=16,pady=16, bd=8, fg=\"black\", font = ('arial', 20, 'bold'),\n",
    "             text=\"+\", bg=\"orange\", command=lambda:btnClick('+')).grid(row=1, column=3)\n",
    "\n",
    "# Second Row\n",
    "btn4 = Button(cal,padx=16,pady=16, bd=8, fg=\"black\", font = ('arial', 20, 'bold'),\n",
    "             text=\"4\", bg=\"yellow\",command=lambda:btnClick(4)).grid(row=2, column=0)\n",
    "btn5 = Button(cal,padx=16,pady=16, bd=8, fg=\"black\", font = ('arial', 20, 'bold'),\n",
    "             text=\"5\", bg=\"yellow\", command=lambda:btnClick(5)).grid(row=2, column=1)\n",
    "btn6 = Button(cal,padx=16,pady=16, bd=8, fg=\"black\", font = ('arial', 20, 'bold'),\n",
    "             text=\"6\", bg=\"yellow\", command=lambda:btnClick(6)).grid(row=2, column=2)\n",
    "subtraction = Button(cal,padx=16,pady=16, bd=8, fg=\"black\", font = ('arial', 20, 'bold'),\n",
    "             text=\"-\", bg=\"orange\", command=lambda:btnClick('-')).grid(row=2, column=3)\n",
    "\n",
    "# Third Row\n",
    "btn1 = Button(cal,padx=16,pady=16, bd=8, fg=\"black\", font = ('arial', 20, 'bold'),\n",
    "             text=\"1\", bg=\"yellow\", command=lambda:btnClick(1)).grid(row=3, column=0)\n",
    "btn2 = Button(cal,padx=16,pady=16, bd=8, fg=\"black\", font = ('arial', 20, 'bold'),\n",
    "             text=\"2\", bg=\"yellow\", command=lambda:btnClick(2)).grid(row=3, column=1)\n",
    "btn3 = Button(cal,padx=16,pady=16, bd=8, fg=\"black\", font = ('arial', 20, 'bold'),\n",
    "             text=\"3\", bg=\"yellow\", command=lambda:btnClick(3)).grid(row=3, column=2)\n",
    "multiplication = Button(cal,padx=16,pady=16, bd=8, fg=\"black\", font = ('arial', 20, 'bold'),\n",
    "             text=\"*\", bg=\"orange\", command=lambda:btnClick('*')).grid(row=3, column=3)\n",
    "\n",
    "# Forth Row\n",
    "btn0 = Button(cal,padx=16,pady=16, bd=8, fg=\"black\", font = ('arial', 20, 'bold'),\n",
    "             text=\"0\", bg=\"yellow\",command=lambda:btnClick(0)).grid(row=4, column=0)\n",
    "btnClear = Button(cal,padx=16,pady=16, bd=8, fg=\"black\", font = ('arial', 20, 'bold'),\n",
    "             text=\"C\", bg=\"yellow\", command=btnClearDisplay).grid(row=4, column=1)\n",
    "btnEquals = Button(cal,padx=16,pady=16, bd=8, fg=\"black\", font = ('arial', 20, 'bold'),\n",
    "             text=\"=\", bg=\"yellow\", command=btnEqualsInput).grid(row=4, column=2)\n",
    "division = Button(cal,padx=16,pady=16, bd=8, fg=\"black\", font = ('arial', 20, 'bold'),\n",
    "             text=\"/\", bg=\"orange\", command=lambda:btnClick('/')).grid(row=4, column=3)\n",
    "\n",
    "\n",
    "\n",
    "\n",
    "\n",
    "cal.mainloop()"
   ]
  },
  {
   "cell_type": "code",
   "execution_count": null,
   "metadata": {
    "collapsed": true
   },
   "outputs": [],
   "source": []
  },
  {
   "cell_type": "code",
   "execution_count": null,
   "metadata": {
    "collapsed": true
   },
   "outputs": [],
   "source": []
  }
 ],
 "metadata": {
  "kernelspec": {
   "display_name": "Python 3",
   "language": "python",
   "name": "python3"
  },
  "language_info": {
   "codemirror_mode": {
    "name": "ipython",
    "version": 3
   },
   "file_extension": ".py",
   "mimetype": "text/x-python",
   "name": "python",
   "nbconvert_exporter": "python",
   "pygments_lexer": "ipython3",
   "version": "3.6.3"
  }
 },
 "nbformat": 4,
 "nbformat_minor": 2
}
